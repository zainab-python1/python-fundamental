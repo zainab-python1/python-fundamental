{
 "cells": [
  {
   "cell_type": "code",
   "execution_count": null,
   "metadata": {},
   "outputs": [],
   "source": [
    "DAY 6"
   ]
  },
  {
   "cell_type": "code",
   "execution_count": null,
   "metadata": {},
   "outputs": [],
   "source": [
    "# CONTINUATION OF LIST DATATYPE:"
   ]
  },
  {
   "cell_type": "code",
   "execution_count": null,
   "metadata": {},
   "outputs": [],
   "source": [
    "#HOW TO MODIFY THE DATA IN THE LIST?\n",
    "#HOW TO DELETE AN ELEMENT IN A LIST?"
   ]
  },
  {
   "cell_type": "code",
   "execution_count": 1,
   "metadata": {},
   "outputs": [
    {
     "name": "stdout",
     "output_type": "stream",
     "text": [
      "['hema', 'ravi', 'suresh', 'anjali', 'iqra', 'zainab']\n"
     ]
    }
   ],
   "source": [
    "my_students = ['hema' , 'ravi' , 'suresh' , 'anjali' , 'iqra' , 'zainab']\n",
    "print(my_students)"
   ]
  },
  {
   "cell_type": "code",
   "execution_count": 3,
   "metadata": {},
   "outputs": [
    {
     "name": "stdout",
     "output_type": "stream",
     "text": [
      "['hema', 'ravi', 'sagarika', 'anjali', 'iqra', 'zainab']\n"
     ]
    }
   ],
   "source": [
    "#Suresh to be modified into sagarika....\n",
    "my_students[2]='sagarika'\n",
    "print(my_students)"
   ]
  },
  {
   "cell_type": "code",
   "execution_count": null,
   "metadata": {},
   "outputs": [],
   "source": [
    "#POP METHOD \n",
    "* It performs only temporary delete and maintains a carcon copy of the element.\n",
    "* it will only eliminate from the last."
   ]
  },
  {
   "cell_type": "code",
   "execution_count": 12,
   "metadata": {},
   "outputs": [
    {
     "name": "stdout",
     "output_type": "stream",
     "text": [
      "['hema', 'ravi']\n"
     ]
    }
   ],
   "source": [
    "x=my_students.pop()\n",
    "print(my_students)"
   ]
  },
  {
   "cell_type": "code",
   "execution_count": null,
   "metadata": {},
   "outputs": [],
   "source": [
    "#INTRODUCTION TO ORGANISING THE LIST:\n"
   ]
  },
  {
   "cell_type": "code",
   "execution_count": 13,
   "metadata": {},
   "outputs": [
    {
     "name": "stdout",
     "output_type": "stream",
     "text": [
      "['vishal', 'sanjana', 'rahul', 'mohit', 'sumit']\n"
     ]
    }
   ],
   "source": [
    "students = ['vishal' , 'sanjana' , 'rahul' , 'mohit' , 'sumit']\n",
    "print(students)"
   ]
  },
  {
   "cell_type": "raw",
   "metadata": {},
   "source": [
    "Req: I want to organise the list in an alphabetically order:\n",
    "#There are two ways of doing so....\n",
    "1) Temporary -- changes will be temporary \n",
    "2) Permanent -- changes will be permanent"
   ]
  },
  {
   "cell_type": "code",
   "execution_count": 14,
   "metadata": {},
   "outputs": [
    {
     "name": "stdout",
     "output_type": "stream",
     "text": [
      "['mohit', 'rahul', 'sanjana', 'sumit', 'vishal']\n"
     ]
    }
   ],
   "source": [
    "print(sorted(students))"
   ]
  },
  {
   "cell_type": "code",
   "execution_count": 15,
   "metadata": {},
   "outputs": [
    {
     "name": "stdout",
     "output_type": "stream",
     "text": [
      "['vishal', 'sanjana', 'rahul', 'mohit', 'sumit']\n"
     ]
    }
   ],
   "source": [
    "print(students)"
   ]
  },
  {
   "cell_type": "code",
   "execution_count": null,
   "metadata": {},
   "outputs": [],
   "source": [
    " # Permanent method we will not be able to maintain the original order:"
   ]
  },
  {
   "cell_type": "code",
   "execution_count": 16,
   "metadata": {},
   "outputs": [
    {
     "name": "stdout",
     "output_type": "stream",
     "text": [
      "['mohit', 'rahul', 'sanjana', 'sumit', 'vishal']\n"
     ]
    }
   ],
   "source": [
    "students.sort()\n",
    "print(students)"
   ]
  },
  {
   "cell_type": "code",
   "execution_count": null,
   "metadata": {},
   "outputs": [],
   "source": [
    "#INTERVIEW QUESTION:\n",
    "What is the difference between sort method and sorted method?\n",
    "---- In sort method we will not be able to maintain the original order and in sorted method we will be able to maintain \n",
    "the original order."
   ]
  },
  {
   "cell_type": "code",
   "execution_count": null,
   "metadata": {},
   "outputs": [],
   "source": [
    "*** req: want to know how many elements are there?\n"
   ]
  },
  {
   "cell_type": "code",
   "execution_count": 17,
   "metadata": {},
   "outputs": [
    {
     "data": {
      "text/plain": [
       "5"
      ]
     },
     "execution_count": 17,
     "metadata": {},
     "output_type": "execute_result"
    }
   ],
   "source": [
    "len(students)"
   ]
  },
  {
   "cell_type": "code",
   "execution_count": null,
   "metadata": {},
   "outputs": [],
   "source": []
  },
  {
   "cell_type": "code",
   "execution_count": null,
   "metadata": {},
   "outputs": [],
   "source": []
  }
 ],
 "metadata": {
  "kernelspec": {
   "display_name": "Python 3",
   "language": "python",
   "name": "python3"
  },
  "language_info": {
   "codemirror_mode": {
    "name": "ipython",
    "version": 3
   },
   "file_extension": ".py",
   "mimetype": "text/x-python",
   "name": "python",
   "nbconvert_exporter": "python",
   "pygments_lexer": "ipython3",
   "version": "3.8.3"
  }
 },
 "nbformat": 4,
 "nbformat_minor": 4
}
