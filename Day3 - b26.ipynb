{
 "cells": [
  {
   "cell_type": "code",
   "execution_count": 1,
   "metadata": {},
   "outputs": [
    {
     "name": "stdout",
     "output_type": "stream",
     "text": [
      "Kiran Kumar\n"
     ]
    }
   ],
   "source": [
    "#title case()\n",
    "name = 'kiran kumar'\n",
    "print(name.title())\n"
   ]
  },
  {
   "cell_type": "code",
   "execution_count": 2,
   "metadata": {},
   "outputs": [
    {
     "name": "stdout",
     "output_type": "stream",
     "text": [
      "KIRAN KUMAR\n"
     ]
    }
   ],
   "source": [
    "#upper case\n",
    "name = 'kiran kumar'\n",
    "print(name.upper())"
   ]
  },
  {
   "cell_type": "code",
   "execution_count": 3,
   "metadata": {},
   "outputs": [
    {
     "name": "stdout",
     "output_type": "stream",
     "text": [
      "kiran kumar\n"
     ]
    }
   ],
   "source": [
    "#lower case\n",
    "name = 'kiran kumar'\n",
    "print(name.lower())"
   ]
  },
  {
   "cell_type": "code",
   "execution_count": 12,
   "metadata": {},
   "outputs": [
    {
     "name": "stdout",
     "output_type": "stream",
     "text": [
      "rohit pota\n"
     ]
    }
   ],
   "source": [
    "#INTRODUCTION TO f strings\n",
    "firstname = 'rohit'\n",
    "lastname = 'pota'\n",
    "#request to get full name\n",
    "fullname = f\"{firstname} {lastname}\"\n",
    "print(fullname)"
   ]
  },
  {
   "cell_type": "code",
   "execution_count": null,
   "metadata": {},
   "outputs": [],
   "source": [
    "#GENERAL SYNTAX OF AN f string\n",
    "f\"{placeholder} {placeholder}\""
   ]
  },
  {
   "cell_type": "code",
   "execution_count": 13,
   "metadata": {},
   "outputs": [
    {
     "name": "stdout",
     "output_type": "stream",
     "text": [
      "Rohit Pota\n"
     ]
    }
   ],
   "source": [
    "#ENHANCEMENT OF CODE\n",
    "print(fullname.title())"
   ]
  },
  {
   "cell_type": "code",
   "execution_count": 15,
   "metadata": {},
   "outputs": [
    {
     "name": "stdout",
     "output_type": "stream",
     "text": [
      "pythonjavaswiftpascalcobolruby\n"
     ]
    }
   ],
   "source": [
    "#ADDING WHITESPACES TO STRINGS\n",
    "fav_languages = \"pythonjavaswiftpascalcobolruby\"\n",
    "print(fav_languages)"
   ]
  },
  {
   "cell_type": "code",
   "execution_count": 17,
   "metadata": {},
   "outputs": [
    {
     "name": "stdout",
     "output_type": "stream",
     "text": [
      "fav_languages : \n",
      "python\n",
      "java\n",
      "swift\n",
      "pascal\n",
      "cobol\n",
      "ruby\n"
     ]
    }
   ],
   "source": [
    "#ENHANCEMENT OF THE CODE:\\n=new line detainer\n",
    "print('fav_languages : \\npython\\njava\\nswift\\npascal\\ncobol\\nruby')"
   ]
  },
  {
   "cell_type": "code",
   "execution_count": 19,
   "metadata": {},
   "outputs": [
    {
     "name": "stdout",
     "output_type": "stream",
     "text": [
      "fav_languages : \tpython\tjava\tswift\tpascal\tcobol\truby\n"
     ]
    }
   ],
   "source": [
    "\n",
    "print('fav_languages : \\tpython\\tjava\\tswift\\tpascal\\tcobol\\truby')"
   ]
  },
  {
   "cell_type": "code",
   "execution_count": null,
   "metadata": {},
   "outputs": [],
   "source": []
  }
 ],
 "metadata": {
  "kernelspec": {
   "display_name": "Python 3",
   "language": "python",
   "name": "python3"
  },
  "language_info": {
   "codemirror_mode": {
    "name": "ipython",
    "version": 3
   },
   "file_extension": ".py",
   "mimetype": "text/x-python",
   "name": "python",
   "nbconvert_exporter": "python",
   "pygments_lexer": "ipython3",
   "version": "3.8.3"
  }
 },
 "nbformat": 4,
 "nbformat_minor": 4
}
