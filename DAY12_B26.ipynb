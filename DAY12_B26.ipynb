{
 "cells": [
  {
   "cell_type": "code",
   "execution_count": null,
   "metadata": {},
   "outputs": [],
   "source": [
    "CONTINUATION OF FUNCTIONS:"
   ]
  },
  {
   "cell_type": "code",
   "execution_count": null,
   "metadata": {},
   "outputs": [],
   "source": [
    "req:to define a function which will be greeting the user:"
   ]
  },
  {
   "cell_type": "code",
   "execution_count": 3,
   "metadata": {},
   "outputs": [
    {
     "name": "stdout",
     "output_type": "stream",
     "text": [
      "Hello,Zainab\n"
     ]
    }
   ],
   "source": [
    "def greet(user):                            #parameter passing--- fun def\n",
    "    \"\"\"creating a function which will be greeting the user\"\"\"\n",
    "    print(f\"Hello,{user}\")\n",
    "greet(\"Zainab\")           # argument passing------ function call"
   ]
  },
  {
   "cell_type": "code",
   "execution_count": 4,
   "metadata": {},
   "outputs": [
    {
     "name": "stdout",
     "output_type": "stream",
     "text": [
      "Hello,Rahul\n"
     ]
    }
   ],
   "source": [
    "greet(\"Rahul\")"
   ]
  },
  {
   "cell_type": "code",
   "execution_count": null,
   "metadata": {},
   "outputs": [],
   "source": [
    "#INTRODUCTION TO TYPES OF ARGUMENTS:\n",
    "1)positional arguments\n",
    "2)key word arguments\n",
    "3)default arguments\n",
    "4)arbitary arguments\n",
    "5)return values"
   ]
  },
  {
   "cell_type": "code",
   "execution_count": null,
   "metadata": {},
   "outputs": [],
   "source": [
    "req: to create a function called \"describe_pets\" which should accept two parametres animal_type and pet_name."
   ]
  },
  {
   "cell_type": "code",
   "execution_count": 5,
   "metadata": {},
   "outputs": [
    {
     "name": "stdout",
     "output_type": "stream",
     "text": [
      "I have a dog\n",
      "My dog's name is rex\n"
     ]
    }
   ],
   "source": [
    "def describe_pets(animal_type,pet_name):\n",
    "    \"\"\"creating a function to describe pet animals\"\"\"\n",
    "    print(f\"I have a {animal_type}\")\n",
    "    print(f\"My {animal_type}'s name is {pet_name}\" )\n",
    "describe_pets('dog','rex')"
   ]
  },
  {
   "cell_type": "code",
   "execution_count": 6,
   "metadata": {},
   "outputs": [
    {
     "name": "stdout",
     "output_type": "stream",
     "text": [
      "I have a snowbell\n",
      "My snowbell's name is cat\n"
     ]
    }
   ],
   "source": [
    "describe_pets('snowbell','cat')"
   ]
  },
  {
   "cell_type": "code",
   "execution_count": null,
   "metadata": {},
   "outputs": [],
   "source": [
    "--- This is not making any sense because of interchanging pet_name and animal_name.\n",
    "POSITIONAL ARGUMENTS--- In the same argumennts of parameters we have to pass the arguments that is called as positional arguments."
   ]
  },
  {
   "cell_type": "code",
   "execution_count": null,
   "metadata": {},
   "outputs": [],
   "source": [
    "#KEY WORD ARGUMENTS:\n"
   ]
  },
  {
   "cell_type": "code",
   "execution_count": 7,
   "metadata": {},
   "outputs": [
    {
     "name": "stdout",
     "output_type": "stream",
     "text": [
      "I have a cat\n",
      "My cat's name is snowbell\n"
     ]
    }
   ],
   "source": [
    "describe_pets(pet_name='snowbell',animal_type='cat')"
   ]
  },
  {
   "cell_type": "code",
   "execution_count": 12,
   "metadata": {},
   "outputs": [
    {
     "ename": "TypeError",
     "evalue": "describe_pets() missing 1 required positional argument: 'pet_name'",
     "output_type": "error",
     "traceback": [
      "\u001b[1;31m---------------------------------------------------------------------------\u001b[0m",
      "\u001b[1;31mTypeError\u001b[0m                                 Traceback (most recent call last)",
      "\u001b[1;32m<ipython-input-12-e956c48d9eb0>\u001b[0m in \u001b[0;36m<module>\u001b[1;34m\u001b[0m\n\u001b[1;32m----> 1\u001b[1;33m \u001b[0mdescribe_pets\u001b[0m\u001b[1;33m(\u001b[0m\u001b[1;34m'kitty'\u001b[0m\u001b[1;33m)\u001b[0m\u001b[1;33m\u001b[0m\u001b[1;33m\u001b[0m\u001b[0m\n\u001b[0m",
      "\u001b[1;31mTypeError\u001b[0m: describe_pets() missing 1 required positional argument: 'pet_name'"
     ]
    }
   ],
   "source": [
    "describe_pets('kitty')"
   ]
  },
  {
   "cell_type": "code",
   "execution_count": null,
   "metadata": {},
   "outputs": [],
   "source": [
    "condition : if there is any missing info , consider the animal type as dog"
   ]
  },
  {
   "cell_type": "code",
   "execution_count": 14,
   "metadata": {},
   "outputs": [
    {
     "name": "stdout",
     "output_type": "stream",
     "text": [
      "I have a fish\n",
      "My fish's name is bruno\n"
     ]
    }
   ],
   "source": [
    "describe_pets('fish','bruno')"
   ]
  },
  {
   "cell_type": "code",
   "execution_count": null,
   "metadata": {},
   "outputs": [],
   "source": []
  },
  {
   "cell_type": "code",
   "execution_count": null,
   "metadata": {},
   "outputs": [],
   "source": []
  },
  {
   "cell_type": "code",
   "execution_count": null,
   "metadata": {},
   "outputs": [],
   "source": []
  }
 ],
 "metadata": {
  "kernelspec": {
   "display_name": "Python 3",
   "language": "python",
   "name": "python3"
  },
  "language_info": {
   "codemirror_mode": {
    "name": "ipython",
    "version": 3
   },
   "file_extension": ".py",
   "mimetype": "text/x-python",
   "name": "python",
   "nbconvert_exporter": "python",
   "pygments_lexer": "ipython3",
   "version": "3.8.3"
  }
 },
 "nbformat": 4,
 "nbformat_minor": 4
}
