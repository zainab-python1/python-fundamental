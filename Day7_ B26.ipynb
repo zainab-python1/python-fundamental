{
 "cells": [
  {
   "cell_type": "code",
   "execution_count": null,
   "metadata": {},
   "outputs": [],
   "source": [
    "#CONTINUATION OF LIST:"
   ]
  },
  {
   "cell_type": "code",
   "execution_count": 1,
   "metadata": {},
   "outputs": [
    {
     "name": "stdout",
     "output_type": "stream",
     "text": [
      "['shabista', 'kiran', 'paul', 'reema', 'zain', 'keerti', 'zainab']\n"
     ]
    }
   ],
   "source": [
    "students=['shabista','kiran','paul','reema','zain','keerti','zainab']\n",
    "print(students)"
   ]
  },
  {
   "cell_type": "code",
   "execution_count": 3,
   "metadata": {},
   "outputs": [
    {
     "name": "stdout",
     "output_type": "stream",
     "text": [
      "['zainab', 'keerti', 'zain', 'reema', 'paul', 'kiran', 'shabista']\n"
     ]
    }
   ],
   "source": [
    "\n",
    "students.reverse()   # print list in reverse order:\n",
    "print(students)"
   ]
  },
  {
   "cell_type": "code",
   "execution_count": null,
   "metadata": {},
   "outputs": [],
   "source": [
    "#INTRODUCTION TO LOOPING STATEMENTS:"
   ]
  },
  {
   "cell_type": "code",
   "execution_count": null,
   "metadata": {},
   "outputs": [],
   "source": [
    "#GENERAL SYNTAX FOR A LOOP:      #formula\n",
    "for tempvar in mainvar:          \n",
    "    print(tempvar)"
   ]
  },
  {
   "cell_type": "code",
   "execution_count": 6,
   "metadata": {},
   "outputs": [
    {
     "name": "stdout",
     "output_type": "stream",
     "text": [
      "zainab\n",
      "keerti\n",
      "zain\n",
      "reema\n",
      "paul\n",
      "kiran\n",
      "shabista\n"
     ]
    }
   ],
   "source": [
    "for x in students:\n",
    "   print(x)"
   ]
  },
  {
   "cell_type": "code",
   "execution_count": null,
   "metadata": {},
   "outputs": [],
   "source": [
    "#colon is very important :\n",
    "#gap before print is very imp    \n",
    "#gap is called as indentation"
   ]
  },
  {
   "cell_type": "code",
   "execution_count": 7,
   "metadata": {},
   "outputs": [
    {
     "name": "stdout",
     "output_type": "stream",
     "text": [
      "['zainab', 'keerti', 'zain', 'reema', 'paul', 'kiran', 'shabista']\n"
     ]
    }
   ],
   "source": [
    "print(students)"
   ]
  },
  {
   "cell_type": "code",
   "execution_count": 10,
   "metadata": {},
   "outputs": [
    {
     "name": "stdout",
     "output_type": "stream",
     "text": [
      "Keep up with the good work,Zainab\n"
     ]
    }
   ],
   "source": [
    "print(f'Keep up with the good work,{students[0].title()}')"
   ]
  },
  {
   "cell_type": "code",
   "execution_count": 15,
   "metadata": {},
   "outputs": [
    {
     "name": "stdout",
     "output_type": "stream",
     "text": [
      "keep up with the good work,zainab\n",
      "keep up with the good work,keerti\n",
      "keep up with the good work,zain\n",
      "keep up with the good work,reema\n",
      "keep up with the good work,paul\n",
      "keep up with the good work,kiran\n",
      "keep up with the good work,shabista\n"
     ]
    }
   ],
   "source": [
    "for x in students:\n",
    "    print(f'keep up with the good work,{x}')"
   ]
  },
  {
   "cell_type": "code",
   "execution_count": null,
   "metadata": {},
   "outputs": [],
   "source": [
    "#ENHANCEMENT OF THE CODE:"
   ]
  },
  {
   "cell_type": "code",
   "execution_count": 20,
   "metadata": {},
   "outputs": [
    {
     "name": "stdout",
     "output_type": "stream",
     "text": [
      "I am looking to recieve your practise file today as well,zainab\n",
      "keep up with the good work,zainab.\n",
      "\n",
      "I am looking to recieve your practise file today as well,keerti\n",
      "keep up with the good work,keerti.\n",
      "\n",
      "I am looking to recieve your practise file today as well,zain\n",
      "keep up with the good work,zain.\n",
      "\n",
      "I am looking to recieve your practise file today as well,reema\n",
      "keep up with the good work,reema.\n",
      "\n",
      "I am looking to recieve your practise file today as well,paul\n",
      "keep up with the good work,paul.\n",
      "\n",
      "I am looking to recieve your practise file today as well,kiran\n",
      "keep up with the good work,kiran.\n",
      "\n",
      "I am looking to recieve your practise file today as well,shabista\n",
      "keep up with the good work,shabista.\n",
      "\n",
      "Thank you all for attending the lectures on python session\n"
     ]
    }
   ],
   "source": [
    "for x in students:\n",
    "    print(f'I am looking to recieve your practise file today as well,{x}')      #in the loop\n",
    "    print(f'keep up with the good work,{x}.\\n')\n",
    "print('Thank you all for attending the lectures on python session')      #coming out of the loop"
   ]
  },
  {
   "cell_type": "code",
   "execution_count": null,
   "metadata": {},
   "outputs": [],
   "source": []
  },
  {
   "cell_type": "code",
   "execution_count": null,
   "metadata": {},
   "outputs": [],
   "source": []
  },
  {
   "cell_type": "code",
   "execution_count": null,
   "metadata": {},
   "outputs": [],
   "source": []
  },
  {
   "cell_type": "code",
   "execution_count": null,
   "metadata": {},
   "outputs": [],
   "source": []
  },
  {
   "cell_type": "code",
   "execution_count": null,
   "metadata": {},
   "outputs": [],
   "source": []
  },
  {
   "cell_type": "code",
   "execution_count": null,
   "metadata": {},
   "outputs": [],
   "source": []
  },
  {
   "cell_type": "code",
   "execution_count": null,
   "metadata": {},
   "outputs": [],
   "source": []
  },
  {
   "cell_type": "code",
   "execution_count": null,
   "metadata": {},
   "outputs": [],
   "source": []
  }
 ],
 "metadata": {
  "kernelspec": {
   "display_name": "Python 3",
   "language": "python",
   "name": "python3"
  },
  "language_info": {
   "codemirror_mode": {
    "name": "ipython",
    "version": 3
   },
   "file_extension": ".py",
   "mimetype": "text/x-python",
   "name": "python",
   "nbconvert_exporter": "python",
   "pygments_lexer": "ipython3",
   "version": "3.8.3"
  }
 },
 "nbformat": 4,
 "nbformat_minor": 4
}
